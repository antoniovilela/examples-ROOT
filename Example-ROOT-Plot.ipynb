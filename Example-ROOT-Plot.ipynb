{
 "cells": [
  {
   "cell_type": "code",
   "execution_count": 2,
   "id": "d1ce43da",
   "metadata": {},
   "outputs": [
    {
     "name": "stdout",
     "output_type": "stream",
     "text": [
      "Welcome to JupyROOT 6.24/00\n"
     ]
    }
   ],
   "source": [
    "import ROOT\n",
    "\n",
    "# ROOT.gStyle.SetCanvasBorderMode(0);\n",
    "# ROOT.gStyle.SetPadBorderMode(0);\n",
    "# ROOT.gStyle.SetPadColor(0);\n",
    "# ROOT.gStyle.SetCanvasColor(0);\n",
    "# ROOT.gStyle.SetTitleColor(0);\n",
    "# ROOT.gStyle.SetStatColor(0);\n",
    "\n",
    "ROOT.gStyle.SetOptStat(0)\n",
    "# ROOT.gStyle.SetLabelFont(43, \"XYZ\")\n",
    "# ROOT.gStyle.SetLabelSize(20, \"XYZ\")\n",
    "# ROOT.gStyle.SetLabelOffset(0.01, \"XYZ\")\n",
    "# ROOT.gStyle.SetTitleFont(43, \"XYZ\")\n",
    "# ROOT.gStyle.SetTitleSize(22, \"XYZ\")\n",
    "# ROOT.gStyle.SetTitleOffset(1.1, \"XYZ\")\n",
    "# ROOT.gStyle.SetLegendFont(43)\n",
    "# ROOT.gStyle.SetLegendTextSize(22)\n",
    "# ROOT.gStyle.SetLegendBorderSize(0)\n",
    "# ROOT.gStyle.SetHistLineColor(1)\n",
    "# ROOT.gStyle.SetHistLineWidth(2)\n",
    "ROOT.gStyle.SetMarkerStyle(23)\n",
    "ROOT.gStyle.SetMarkerSize(0.3)\n",
    "ROOT.gStyle.SetErrorX(0.5)\n",
    "ROOT.gStyle.SetPalette(1)"
   ]
  },
  {
   "cell_type": "code",
   "execution_count": 3,
   "id": "eee483ae",
   "metadata": {},
   "outputs": [],
   "source": [
    "hist = ROOT.TH1D(\"hist\",\"\",100,-50,50)\n",
    "from ROOT import gRandom\n",
    "for idx in range(10000): hist.Fill( gRandom.Gaus(0.,10.) )"
   ]
  },
  {
   "cell_type": "code",
   "execution_count": 7,
   "id": "ccede916",
   "metadata": {},
   "outputs": [
    {
     "name": "stderr",
     "output_type": "stream",
     "text": [
      "Warning in <TCanvas::Constructor>: Deleting canvas with same name: canvas1\n"
     ]
    },
    {
     "data": {
      "image/png": "[encoded data removed]",
      "text/plain": [
       "<IPython.core.display.Image object>"
      ]
     },
     "metadata": {},
     "output_type": "display_data"
    }
   ],
   "source": [
    "canvas1 = ROOT.TCanvas(\"canvas1\")\n",
    "canvas1.cd()\n",
    "\n",
    "hist.SetXTitle( \"x (unit)\" )\n",
    "hist.SetYTitle( \"Entries\" )\n",
    "hist.SetLineColor(1)\n",
    "hist.SetLineWidth(2)\n",
    "hist.SetLabelFont(43, \"XYZ\")\n",
    "hist.SetLabelSize(20, \"XYZ\")\n",
    "hist.SetLabelOffset(0.01, \"XYZ\")\n",
    "hist.SetTitleFont(43, \"XYZ\")\n",
    "hist.SetTitleSize(22, \"XYZ\")\n",
    "hist.SetTitleOffset(1.1, \"XYZ\")\n",
    "hist.Draw()\n",
    "leg = ROOT.TLegend( 0.7, 0.7, 0.9, 0.8)\n",
    "leg.AddEntry( hist, \"MC data\", \"L\" )\n",
    "leg.SetTextFont(43)\n",
    "leg.SetTextSize(22)\n",
    "# leg.SetLegendBorderSize(0)\n",
    "\n",
    "leg.Draw()\n",
    "\n",
    "canvas1.Draw()"
   ]
  },
  {
   "cell_type": "code",
   "execution_count": null,
   "id": "f702f711",
   "metadata": {},
   "outputs": [],
   "source": []
  }
 ],
 "metadata": {
  "kernelspec": {
   "display_name": "Python 3",
   "language": "python",
   "name": "python3"
  },
  "language_info": {
   "codemirror_mode": {
    "name": "ipython",
    "version": 3
   },
   "file_extension": ".py",
   "mimetype": "text/x-python",
   "name": "python",
   "nbconvert_exporter": "python",
   "pygments_lexer": "ipython3",
   "version": "3.8.6"
  }
 },
 "nbformat": 4,
 "nbformat_minor": 5
}
