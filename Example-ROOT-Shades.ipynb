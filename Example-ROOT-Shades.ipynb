{
 "cells": [
  {
   "cell_type": "code",
   "execution_count": 7,
   "metadata": {},
   "outputs": [],
   "source": [
    "import ROOT"
   ]
  },
  {
   "cell_type": "code",
   "execution_count": 8,
   "metadata": {},
   "outputs": [
    {
     "data": {
      "text/plain": [
       "<ROOT.TH1F object (\"hframe\") at 0x621d850>"
      ]
     },
     "execution_count": 8,
     "metadata": {},
     "output_type": "execute_result"
    },
    {
     "name": "stderr",
     "output_type": "stream",
     "text": [
      "Warning in <TCanvas::Constructor>: Deleting canvas with same name: canvas1\n"
     ]
    }
   ],
   "source": [
    "canvas = ROOT.TCanvas(\"canvas1\",\"\",200,10,700,500)\n",
    "canvas.DrawFrame(0.,0.,0.25,0.25,\";X;Y\")"
   ]
  },
  {
   "cell_type": "code",
   "execution_count": 17,
   "metadata": {},
   "outputs": [],
   "source": [
    "xbox = ybox = 0.03\n",
    "\n",
    "gr_shade_1 = ROOT.TGraph( 4 )\n",
    "gr_shade_1.SetPoint( 0, 0.  , 0.  )\n",
    "gr_shade_1.SetPoint( 1, 0.25, 0.  )\n",
    "gr_shade_1.SetPoint( 2, 0.25, ybox)\n",
    "gr_shade_1.SetPoint( 3, 0.  , ybox)\n",
    "\n",
    "#gr_shade_1.SetFillColor(38)\n",
    "gr_shade_1.SetFillColorAlpha(38, 0.30)\n",
    "gr_shade_1.Draw(\"F\")\n",
    "\n",
    "gr_shade_2 = ROOT.TGraph( 4 )\n",
    "gr_shade_2.SetPoint( 0, 0.  , 0.  )\n",
    "gr_shade_2.SetPoint( 1, xbox, 0.  )\n",
    "gr_shade_2.SetPoint( 2, xbox, 0.25)\n",
    "gr_shade_2.SetPoint( 3, 0.  , 0.25)\n",
    "\n",
    "#gr_shade_1.SetFillColor(38)\n",
    "gr_shade_2.SetFillColorAlpha(38, 0.30)\n",
    "gr_shade_2.Draw(\"F\")"
   ]
  },
  {
   "cell_type": "code",
   "execution_count": 18,
   "metadata": {},
   "outputs": [
    {
     "data": {
      "image/png": "[encoded data removed]",
      "text/plain": [
       "<IPython.core.display.Image object>"
      ]
     },
     "metadata": {},
     "output_type": "display_data"
    }
   ],
   "source": [
    "canvas.Draw()"
   ]
  },
  {
   "cell_type": "code",
   "execution_count": 19,
   "metadata": {},
   "outputs": [
    {
     "name": "stderr",
     "output_type": "stream",
     "text": [
      "Info in <TCanvas::Print>: pdf file Example-ROOT-Shades.pdf has been created\n"
     ]
    }
   ],
   "source": [
    "canvas.SaveAs(\"Example-ROOT-Shades.pdf\")"
   ]
  },
  {
   "cell_type": "code",
   "execution_count": null,
   "metadata": {},
   "outputs": [],
   "source": []
  }
 ],
 "metadata": {
  "kernelspec": {
   "display_name": "Python 3",
   "language": "python",
   "name": "python3"
  },
  "language_info": {
   "codemirror_mode": {
    "name": "ipython",
    "version": 3
   },
   "file_extension": ".py",
   "mimetype": "text/x-python",
   "name": "python",
   "nbconvert_exporter": "python",
   "pygments_lexer": "ipython3",
   "version": "3.8.6"
  }
 },
 "nbformat": 4,
 "nbformat_minor": 2
}
